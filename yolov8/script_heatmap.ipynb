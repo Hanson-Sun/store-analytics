{
 "cells": [
  {
   "cell_type": "code",
   "execution_count": null,
   "metadata": {},
   "outputs": [
    {
     "ename": "",
     "evalue": "",
     "output_type": "error",
     "traceback": [
      "\u001b[1;31mFailed to connect to the remote Jupyter Server 'http://127.0.0.1:8888/'. Verify the server is running and reachable. (Failed to connect to the remote Jupyter Server 'http://127.0.0.1:8888/'. Verify the server is running and reachable. (Forbidden).)."
     ]
    }
   ],
   "source": [
    "import cv2\n",
    "import numpy as np\n",
    "import matplotlib.pyplot as plt\n",
    "from ultralytics import YOLO\n",
    "\n",
    "# Load YOLOv8 model\n",
    "model = YOLO('yolov8n.pt')\n",
    "\n",
    "# Set the video file path\n",
    "VIDEO_PATH = r\"C:\\Users\\nishi\\store-analytics\\yolov8\\20250118_123057.mp4\"\n",
    "cap = cv2.VideoCapture(VIDEO_PATH)\n",
    "\n",
    "# Store person positions\n",
    "heatmap_data = []\n",
    "\n",
    "while cap.isOpened():\n",
    "    ret, frame = cap.read()\n",
    "    if not ret:\n",
    "        break\n",
    "\n",
    "    # Run YOLO inference\n",
    "    results = model(frame)\n",
    "\n",
    "    # Extract person centroids and store them\n",
    "    for result in results:\n",
    "        for detection in result.boxes:\n",
    "            if detection.cls == 0:  # Class 0 = 'person' in COCO dataset\n",
    "                bbox = detection.xyxy[0].cpu().numpy().astype(int)\n",
    "                centroid = ((bbox[0] + bbox[2]) // 2, (bbox[1] + bbox[3]) // 2)\n",
    "                heatmap_data.append(centroid)\n",
    "\n",
    "    # Display the video with bounding boxes (optional)\n",
    "    for centroid in heatmap_data:\n",
    "        cv2.circle(frame, centroid, 5, (0, 255, 0), -1)  # Draw dots on tracked positions\n",
    "\n",
    "    cv2.imshow('Tracking', frame)\n",
    "    \n",
    "    if cv2.waitKey(1) & 0xFF == ord('q'):\n",
    "        break\n",
    "\n",
    "cap.release()\n",
    "cv2.destroyAllWindows()\n",
    "\n",
    "# Create a heatmap\n",
    "heatmap, xedges, yedges = np.histogram2d(\n",
    "    [p[0] for p in heatmap_data], [p[1] for p in heatmap_data], bins=(100, 100)\n",
    ")\n",
    "\n",
    "# Display the heatmap\n",
    "plt.imshow(heatmap.T, cmap='jet', origin='lower', alpha=0.75)\n",
    "plt.colorbar(label=\"Foot Traffic Density\")\n",
    "plt.title(\"Store Traffic Heatmap\")\n",
    "plt.xlabel(\"X Position\")\n",
    "plt.ylabel(\"Y Position\")\n",
    "plt.show()\n"
   ]
  }
 ],
 "metadata": {
  "kernelspec": {
   "display_name": "Python 3 (ipykernel)",
   "language": "python",
   "name": "python3"
  }
 },
 "nbformat": 4,
 "nbformat_minor": 2
}
