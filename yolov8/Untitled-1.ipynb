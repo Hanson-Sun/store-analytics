{
 "cells": [
  {
   "cell_type": "code",
   "execution_count": 4,
   "metadata": {},
   "outputs": [
    {
     "name": "stdout",
     "output_type": "stream",
     "text": [
      "Downloading https://github.com/ultralytics/assets/releases/download/v8.3.0/yolov8n.pt to 'yolov8n.pt'...\n"
     ]
    },
    {
     "name": "stderr",
     "output_type": "stream",
     "text": [
      "100%|████████████████████████████████████| 6.25M/6.25M [00:01<00:00, 4.22MB/s]\n"
     ]
    },
    {
     "name": "stdout",
     "output_type": "stream",
     "text": [
      "\n",
      "0: 640x384 12 persons, 1 bottle, 1 chair, 1 dining table, 2 laptops, 341.0ms\n",
      "Speed: 25.8ms preprocess, 341.0ms inference, 42.9ms postprocess per image at shape (1, 3, 640, 384)\n",
      "\n",
      "0: 640x384 10 persons, 1 bottle, 1 chair, 1 dining table, 2 laptops, 112.8ms\n",
      "Speed: 3.0ms preprocess, 112.8ms inference, 2.0ms postprocess per image at shape (1, 3, 640, 384)\n",
      "\n",
      "0: 640x384 10 persons, 1 bottle, 2 cups, 3 chairs, 1 dining table, 4 laptops, 105.7ms\n",
      "Speed: 3.0ms preprocess, 105.7ms inference, 2.0ms postprocess per image at shape (1, 3, 640, 384)\n",
      "\n",
      "0: 640x384 12 persons, 1 bottle, 1 cup, 2 chairs, 1 dining table, 4 laptops, 122.9ms\n",
      "Speed: 3.0ms preprocess, 122.9ms inference, 1.0ms postprocess per image at shape (1, 3, 640, 384)\n",
      "\n",
      "0: 640x384 10 persons, 2 bottles, 3 chairs, 1 dining table, 5 laptops, 122.5ms\n",
      "Speed: 3.0ms preprocess, 122.5ms inference, 2.0ms postprocess per image at shape (1, 3, 640, 384)\n",
      "\n",
      "0: 640x384 12 persons, 2 bottles, 1 cup, 4 chairs, 1 dining table, 5 laptops, 1 cell phone, 103.5ms\n",
      "Speed: 3.0ms preprocess, 103.5ms inference, 1.0ms postprocess per image at shape (1, 3, 640, 384)\n",
      "\n",
      "0: 640x384 13 persons, 2 bottles, 4 chairs, 1 dining table, 4 laptops, 1 cell phone, 103.8ms\n",
      "Speed: 2.0ms preprocess, 103.8ms inference, 2.0ms postprocess per image at shape (1, 3, 640, 384)\n",
      "\n",
      "0: 640x384 11 persons, 1 bottle, 1 cup, 1 chair, 1 dining table, 5 laptops, 103.0ms\n",
      "Speed: 3.0ms preprocess, 103.0ms inference, 2.0ms postprocess per image at shape (1, 3, 640, 384)\n",
      "\n",
      "0: 640x384 9 persons, 1 bottle, 1 dining table, 6 laptops, 128.8ms\n",
      "Speed: 4.0ms preprocess, 128.8ms inference, 2.0ms postprocess per image at shape (1, 3, 640, 384)\n",
      "\n",
      "0: 640x384 10 persons, 1 bottle, 1 chair, 1 dining table, 3 laptops, 1 cell phone, 116.4ms\n",
      "Speed: 4.0ms preprocess, 116.4ms inference, 1.0ms postprocess per image at shape (1, 3, 640, 384)\n",
      "\n",
      "0: 640x384 9 persons, 1 cup, 1 dining table, 3 laptops, 1 cell phone, 78.3ms\n",
      "Speed: 2.0ms preprocess, 78.3ms inference, 1.0ms postprocess per image at shape (1, 3, 640, 384)\n",
      "\n",
      "0: 640x384 6 persons, 1 backpack, 1 dining table, 3 laptops, 1 cell phone, 80.5ms\n",
      "Speed: 2.0ms preprocess, 80.5ms inference, 0.0ms postprocess per image at shape (1, 3, 640, 384)\n",
      "\n",
      "0: 640x384 6 persons, 1 backpack, 1 dining table, 4 laptops, 1 cell phone, 70.6ms\n",
      "Speed: 2.0ms preprocess, 70.6ms inference, 1.0ms postprocess per image at shape (1, 3, 640, 384)\n",
      "\n",
      "0: 640x384 8 persons, 1 backpack, 1 handbag, 1 dining table, 2 laptops, 1 cell phone, 1 book, 73.2ms\n",
      "Speed: 3.0ms preprocess, 73.2ms inference, 1.4ms postprocess per image at shape (1, 3, 640, 384)\n",
      "\n",
      "0: 640x384 4 persons, 1 backpack, 1 handbag, 1 dining table, 4 laptops, 1 cell phone, 88.9ms\n",
      "Speed: 2.0ms preprocess, 88.9ms inference, 1.0ms postprocess per image at shape (1, 3, 640, 384)\n",
      "\n",
      "0: 640x384 4 persons, 1 backpack, 1 dining table, 2 laptops, 1 cell phone, 1 book, 81.3ms\n",
      "Speed: 2.0ms preprocess, 81.3ms inference, 1.7ms postprocess per image at shape (1, 3, 640, 384)\n",
      "\n",
      "0: 640x384 5 persons, 1 backpack, 1 handbag, 2 bottles, 1 dining table, 2 laptops, 1 cell phone, 1 book, 77.4ms\n",
      "Speed: 2.0ms preprocess, 77.4ms inference, 2.4ms postprocess per image at shape (1, 3, 640, 384)\n",
      "\n",
      "0: 640x384 5 persons, 1 backpack, 1 bottle, 1 dining table, 4 laptops, 1 cell phone, 88.3ms\n",
      "Speed: 2.0ms preprocess, 88.3ms inference, 1.8ms postprocess per image at shape (1, 3, 640, 384)\n"
     ]
    }
   ],
   "source": [
    "import cv2\n",
    "from ultralytics import YOLO\n",
    "\n",
    "# Set the video file path directly\n",
    "VIDEO_PATH = r\"C:\\Users\\nishi\\store-analytics\\yolov8\\20250118_123057.mp4\"  # 🔹 Change this to your actual video file\n",
    "\n",
    "# Load the YOLO model\n",
    "model = YOLO('yolov8n.pt')\n",
    "\n",
    "# Open the video file\n",
    "cap = cv2.VideoCapture(VIDEO_PATH)\n",
    "\n",
    "while cap.isOpened():\n",
    "    ret, frame = cap.read()\n",
    "    if not ret:\n",
    "        break\n",
    "\n",
    "    # Perform inference with stream=True\n",
    "    results = model(frame, stream=True)\n",
    "\n",
    "    # Filter results to only show people (class 0 in COCO dataset)\n",
    "    for result in results:\n",
    "        for detection in result.boxes:\n",
    "            if detection.cls == 0:  # Class 0 is 'person' in COCO dataset\n",
    "                bbox = detection.xyxy[0].cpu().numpy().astype(int)\n",
    "                cv2.rectangle(frame, (bbox[0], bbox[1]), (bbox[2], bbox[3]), (0, 255, 0), 2)\n",
    "\n",
    "    # Display the frame\n",
    "    cv2.imshow('Frame', frame)\n",
    "\n",
    "    # Break the loop on 'q' key press\n",
    "    if cv2.waitKey(1) & 0xFF == ord('q'):\n",
    "        break\n",
    "\n",
    "# Release the video capture object and close all OpenCV windows\n",
    "cap.release()\n",
    "cv2.destroyAllWindows()"
   ]
  }
 ],
 "metadata": {
  "kernelspec": {
   "display_name": "Python 3 (ipykernel)",
   "language": "python",
   "name": "python3"
  },
  "language_info": {
   "codemirror_mode": {
    "name": "ipython",
    "version": 3
   },
   "file_extension": ".py",
   "mimetype": "text/x-python",
   "name": "python",
   "nbconvert_exporter": "python",
   "pygments_lexer": "ipython3",
   "version": "3.12.8"
  }
 },
 "nbformat": 4,
 "nbformat_minor": 2
}
